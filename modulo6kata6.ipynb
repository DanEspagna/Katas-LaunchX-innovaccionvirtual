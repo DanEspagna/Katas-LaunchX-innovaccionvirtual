{
 "cells": [
  {
   "cell_type": "code",
   "execution_count": 12,
   "metadata": {},
   "outputs": [],
   "source": [
    "\n",
    "## EJERCICIO 1\n",
    "#En primer lugar, crea una variable denominada planets. \n",
    "# Agrega los ocho planetas (sin Plutón) a la lista. A continuación, muestra el número de planetas."
   ]
  },
  {
   "cell_type": "code",
   "execution_count": 13,
   "metadata": {},
   "outputs": [
    {
     "name": "stdout",
     "output_type": "stream",
     "text": [
      "['mercurio', 'venus', 'tierra', 'marte', 'jupiter', 'saturno', 'urano', 'neptuno', 'pluton']\n",
      "Hay un total de 9 planetas en nuestro sistema solar\n",
      "el ultimo planeta es pluton\n"
     ]
    }
   ],
   "source": [
    "planets = ['mercurio', 'venus', 'tierra', 'marte', 'jupiter', 'saturno', 'urano', 'neptuno']\n",
    "\n",
    "#Agrega pluton a la lista\n",
    "planets.append('pluton')\n",
    "\n",
    "print(planets)\n",
    "\n",
    "#Obten el numero de planetas en la lista\n",
    "numeroPlanetas = len(planets)\n",
    "\n",
    "print('Hay un total de',numeroPlanetas,'planetas en nuestro sistema solar')\n",
    "\n",
    "#imprime el ultimo planeta\n",
    "print('el ultimo planeta es',planets[8])"
   ]
  },
  {
   "cell_type": "markdown",
   "metadata": {},
   "source": [
    "## EJERCICIO 2\n",
    "# Es posible que debas trabajar con diferentes secciones de una lista. En nuestro ejemplo, queremos mostrar planetas más cerca y más lejos del sol de un planeta que el usuario ingresa por teclado.\n",
    "\n",
    "# Comienza agregando el código para crear una lista con los planetas.\n",
    "\n"
   ]
  },
  {
   "cell_type": "code",
   "execution_count": 26,
   "metadata": {},
   "outputs": [
    {
     "name": "stdout",
     "output_type": "stream",
     "text": [
      "Los planetas que se le acercan mas al sol a comparación del planeta que elegiste son: \n",
      " Mercury, Venus, Earth, Mars, Jupiter, Saturn\n"
     ]
    }
   ],
   "source": [
    "planetas = ['Mercury', 'Venus', 'Earth', 'Mars', 'Jupiter', 'Saturn', 'Neptune']\n",
    "\n",
    "#Pidele al usuario que ingrese el nombre de un planeta para solicitar información.\n",
    "\n",
    "planetaSolicitado = input(\"ingresa el nombre de un planeta, comenzando con letra mayúscula\")\n",
    "if planetaSolicitado == 'Saturn':\n",
    "    print(\"Los planetas que se le acercan mas al sol a comparación del planeta que elegiste son: \\n Mercury, Venus, Earth, Mars, Jupiter.\")\n",
    "elif planetaSolicitado == 'Mercury':\n",
    "    print(\"Tu planeta elegido es el mas cercano al sol, que calor!\")\n",
    "elif planetaSolicitado == 'Venus':\n",
    "    print(\"Los planetas que se le acercan mas al sol a comparación del planeta que elegiste son: \\n Mercury\")\n",
    "elif planetaSolicitado == 'Earth':\n",
    "    print(\"Los planetas que se le acercan mas al sol a comparación del planeta que elegiste son: \\n Mercury, Venus\")\n",
    "elif planetaSolicitado == 'Mars':\n",
    "    print(\"Los planetas que se le acercan mas al sol a comparación del planeta que elegiste son: \\n Mercury, Venus, Earth\")\n",
    "elif planetaSolicitado == 'Jupiter':\n",
    "    print(\"Los planetas que se le acercan mas al sol a comparación del planeta que elegiste son: \\n Mercury, Venus, Earth, Mars\")\n",
    "elif planetaSolicitado == 'Neptune':\n",
    "    print(\"Los planetas que se le acercan mas al sol a comparación del planeta que elegiste son: \\n Mercury, Venus, Earth, Mars, Jupiter, Saturn\")\n",
    "else:\n",
    "    print(\"No escribiste correctamente un nombre de planeta\")\n",
    "\n"
   ]
  }
 ],
 "metadata": {
  "interpreter": {
   "hash": "cd9585a8752c86e4fb7bf9e07d5288b44c0f8ec84eb6cb222ec7c6fff21cb72d"
  },
  "kernelspec": {
   "display_name": "Python 3.10.2 64-bit",
   "language": "python",
   "name": "python3"
  },
  "language_info": {
   "codemirror_mode": {
    "name": "ipython",
    "version": 3
   },
   "file_extension": ".py",
   "mimetype": "text/x-python",
   "name": "python",
   "nbconvert_exporter": "python",
   "pygments_lexer": "ipython3",
   "version": "3.10.2"
  },
  "orig_nbformat": 4
 },
 "nbformat": 4,
 "nbformat_minor": 2
}
