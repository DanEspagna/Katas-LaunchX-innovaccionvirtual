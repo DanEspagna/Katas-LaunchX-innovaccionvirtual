{
 "cells": [
  {
   "cell_type": "code",
   "execution_count": null,
   "metadata": {},
   "outputs": [],
   "source": [
    "# Para este ejercicio, escribirás una lógica condicional que imprima una advertencia si un asteroide se acerca a la Tierra demasiado rápido. La velocidad del asteroide varía dependiendo de lo cerca que esté del sol, y cualquier velocidad superior a 25 kilómetros por segundo (km/s) merece una advertencia.\n",
    "\n",
    "# Un asteroide se acerca, y viaja a una velocidad de 49 km/s.\n",
    "\n",
    "# Añadir el código necesario para crear una variable que guarde la velocidad del asteroide.\n",
    "# Escribe una expresión de prueba para calcular si necesita una advertencia.\n",
    "# Agregue las instrucciones que se ejecutarán si la expresión de prueba es true o false."
   ]
  },
  {
   "cell_type": "code",
   "execution_count": 16,
   "metadata": {},
   "outputs": [
    {
     "name": "stdout",
     "output_type": "stream",
     "text": [
      "¡Hay un Asteroide acercandose demasiado rápido, corran!\n"
     ]
    }
   ],
   "source": [
    "velAsteroide = 49\n",
    "velPeligro = 25\n",
    "\n",
    "if velAsteroide > velPeligro:\n",
    "    print(\"¡Hay un Asteroide acercandose demasiado rápido, corran!\")\n",
    "else:\n",
    "    print(\"No hay peligro, todo cool\")"
   ]
  },
  {
   "cell_type": "markdown",
   "metadata": {},
   "source": [
    "## Si un asteroide entra en la atmósfera de la Tierra a una velocidad mayor o igual a 20 km/s, a veces produce un rayo de luz que se puede ver desde la Tierra. Escribe la lógica condicional que usa declaraciones if, else, y elif para alertar a las personas de todo el mundo que deben buscar un asteroide en el cielo. ¡Hay uno que se dirige a la tierra ahora a una velocidad de 19 km/s!\n",
    "# Agrega el código para crear una variable para un asteroide que viaja a 19 km/s\n",
    "# Escribe varias expresiones de prueba para determinar si puedes ver el rayo de luz desde la tierra\n",
    "# Agrega las instrucciones que se ejecutarán si las expresiones de prueba son True o False"
   ]
  },
  {
   "cell_type": "code",
   "execution_count": 3,
   "metadata": {},
   "outputs": [
    {
     "name": "stdout",
     "output_type": "stream",
     "text": [
      "No hay peligro por el asteroide, el rayo de luz aun no es visible tampoco\n"
     ]
    }
   ],
   "source": [
    "velocidadAsteroide = 19\n",
    "velocidadPeligrosa = 20\n",
    "\n",
    "if velocidadAsteroide >= velocidadPeligrosa:\n",
    "    print(\"Asteroide acercandose a velocidad peligrosa, contemplen el rayo de luz, puede verse en todo el mundo!\")\n",
    "elif velocidadAsteroide < velocidadPeligrosa:\n",
    "    print(\"No hay peligro por el asteroide, el rayo de luz aun no es visible tampoco\")\n",
    "else:\n",
    "    print(\"Sigan con su vida, todo normal\")"
   ]
  },
  {
   "cell_type": "markdown",
   "metadata": {},
   "source": [
    "## En este ejercicio, aprenderás información más matizada sobre cuándo los asteroides representan un peligro para la Tierra, y utilizarás esa información para mejorar nuestro sistema de advertencia. Aquí está la nueva información que necesitas saber: *Los asteroides de menos de 25 metros en su dimensión más grande probablemente se quemarán a medida que entren en la atmósfera de la Tierra.\n",
    "\n",
    "## Si una pieza de un asteroide que es más grande que 25 metros pero más pequeña que 1000 metros golpeara la Tierra, causaría mucho daño.\n",
    "## También discutimos en el ejercicio anterior que:\n",
    "\n",
    "## La velocidad del asteroide varía en función de lo cerca que esté del sol, y cualquier velocidad superior a 25 kilómetros por segundo (km/s) merece una advertencia. Si un asteroide entra en la atmósfera de la Tierra a una velocidad mayor o igual a 20 km/s, a veces produce un rayo de luz que se puede ver desde la Tierra. Usando toda esta información, escribe un programa que emita la advertencia o información correcta a la gente de la Tierra, según la velocidad y el tamaño de un asteroide. Utiliza instrucciones if, else, y elif, así como los operadores and y or.\n",
    "\n",
    "# Agrega el código para crear nuevas variables para la velocidad y el tamaño del asteroide\n",
    "# Para probar el código, prueba con varias velocidades y tamaños\n",
    "# Escribe varias expresiones de prueba o combinaciones de expresiones de prueba para determinar qué mensaje se debe enviar a Tierra."
   ]
  },
  {
   "cell_type": "code",
   "execution_count": 14,
   "metadata": {},
   "outputs": [
    {
     "name": "stdout",
     "output_type": "stream",
     "text": [
      "Un asteroide de este tamaño causaría grandes daños, tenemos que huir a otro planeta!\n",
      "El asteroide se acerca muy rapido, la extinción es inminente!\n"
     ]
    }
   ],
   "source": [
    "tamañoPeligroMinimo = 25\n",
    "tamañoPeligroMaximo = 1000\n",
    "tamañoAsteroide = 333\n",
    "velocidadAsteroideHoy = 190\n",
    "velocidadPeligroMinimo = 20\n",
    "velocidadCatastrofica = 25\n",
    "\n",
    "if tamañoAsteroide >= tamañoPeligroMinimo and tamañoAsteroide < tamañoPeligroMaximo:\n",
    "    print(\"Un asteroide de este tamaño causaría grandes daños, tenemos que huir a otro planeta!\")\n",
    "elif tamañoAsteroide < tamañoPeligroMinimo:\n",
    "    print(\"Este asteroide es muy pequeño, no hay peligro\")\n",
    "\n",
    "if velocidadAsteroideHoy >= velocidadPeligroMinimo and velocidadAsteroideHoy < velocidadCatastrofica:\n",
    "    print(\"Un rayo de luz es visible desde la tierra!\")\n",
    "elif velocidadAsteroideHoy >= velocidadCatastrofica:\n",
    "    print(\"El asteroide se acerca muy rapido, la extinción es inminente!\")\n",
    "else:\n",
    "    print(\"El asteroide es algo lento, no produce un rayo de luz\")\n"
   ]
  }
 ],
 "metadata": {
  "interpreter": {
   "hash": "cd9585a8752c86e4fb7bf9e07d5288b44c0f8ec84eb6cb222ec7c6fff21cb72d"
  },
  "kernelspec": {
   "display_name": "Python 3.10.2 64-bit",
   "language": "python",
   "name": "python3"
  },
  "language_info": {
   "codemirror_mode": {
    "name": "ipython",
    "version": 3
   },
   "file_extension": ".py",
   "mimetype": "text/x-python",
   "name": "python",
   "nbconvert_exporter": "python",
   "pygments_lexer": "ipython3",
   "version": "3.10.2"
  },
  "orig_nbformat": 4
 },
 "nbformat": 4,
 "nbformat_minor": 2
}
